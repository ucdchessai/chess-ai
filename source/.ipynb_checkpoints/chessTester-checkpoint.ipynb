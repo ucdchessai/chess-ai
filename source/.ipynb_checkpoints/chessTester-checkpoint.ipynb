{
 "cells": [
  {
   "cell_type": "code",
   "execution_count": 35,
   "metadata": {},
   "outputs": [
    {
     "name": "stdout",
     "output_type": "stream",
     "text": [
      "Loading Model\n",
      "Done Loading\n"
     ]
    },
    {
     "ename": "AttributeError",
     "evalue": "'str' object has no attribute 'from_square'",
     "output_type": "error",
     "traceback": [
      "\u001b[0;31m---------------------------------------------------------------------------\u001b[0m",
      "\u001b[0;31mAttributeError\u001b[0m                            Traceback (most recent call last)",
      "\u001b[0;32m<ipython-input-35-db367c3a0f4c>\u001b[0m in \u001b[0;36m<module>\u001b[0;34m\u001b[0m\n\u001b[1;32m     48\u001b[0m     \u001b[0mstartingMoves\u001b[0m \u001b[0;34m=\u001b[0m \u001b[0;34m[\u001b[0m\u001b[0;34m\"e2e4\"\u001b[0m\u001b[0;34m,\u001b[0m \u001b[0;34m\"d2d4\"\u001b[0m\u001b[0;34m,\u001b[0m \u001b[0;34m\"c2c4\"\u001b[0m\u001b[0;34m,\u001b[0m \u001b[0;34m\"g1f3\"\u001b[0m\u001b[0;34m]\u001b[0m\u001b[0;34m\u001b[0m\u001b[0;34m\u001b[0m\u001b[0m\n\u001b[1;32m     49\u001b[0m     \u001b[0mrandomIndex\u001b[0m \u001b[0;34m=\u001b[0m \u001b[0mrandom\u001b[0m\u001b[0;34m.\u001b[0m\u001b[0mrandrange\u001b[0m\u001b[0;34m(\u001b[0m\u001b[0;36m0\u001b[0m\u001b[0;34m,\u001b[0m\u001b[0;36m3\u001b[0m\u001b[0;34m,\u001b[0m\u001b[0;36m1\u001b[0m\u001b[0;34m)\u001b[0m\u001b[0;34m\u001b[0m\u001b[0;34m\u001b[0m\u001b[0m\n\u001b[0;32m---> 50\u001b[0;31m     \u001b[0mboard\u001b[0m\u001b[0;34m.\u001b[0m\u001b[0mpush\u001b[0m\u001b[0;34m(\u001b[0m\u001b[0mstartingMoves\u001b[0m\u001b[0;34m[\u001b[0m\u001b[0mrandomIndex\u001b[0m\u001b[0;34m]\u001b[0m\u001b[0;34m)\u001b[0m\u001b[0;34m\u001b[0m\u001b[0;34m\u001b[0m\u001b[0m\n\u001b[0m\u001b[1;32m     51\u001b[0m     \u001b[0;32mwhile\u001b[0m \u001b[0;32mnot\u001b[0m \u001b[0mboard\u001b[0m\u001b[0;34m.\u001b[0m\u001b[0mis_game_over\u001b[0m\u001b[0;34m(\u001b[0m\u001b[0;34m)\u001b[0m\u001b[0;34m:\u001b[0m\u001b[0;34m\u001b[0m\u001b[0;34m\u001b[0m\u001b[0m\n\u001b[1;32m     52\u001b[0m         \u001b[0mmoves\u001b[0m \u001b[0;34m=\u001b[0m \u001b[0mboard\u001b[0m\u001b[0;34m.\u001b[0m\u001b[0mlegal_moves\u001b[0m\u001b[0;34m\u001b[0m\u001b[0;34m\u001b[0m\u001b[0m\n",
      "\u001b[0;32m~/anaconda3/lib/python3.7/site-packages/chess/__init__.py\u001b[0m in \u001b[0;36mpush\u001b[0;34m(self, move)\u001b[0m\n\u001b[1;32m   1958\u001b[0m         \"\"\"\n\u001b[1;32m   1959\u001b[0m         \u001b[0;31m# Push move and remember board state.\u001b[0m\u001b[0;34m\u001b[0m\u001b[0;34m\u001b[0m\u001b[0;34m\u001b[0m\u001b[0m\n\u001b[0;32m-> 1960\u001b[0;31m         \u001b[0mmove\u001b[0m \u001b[0;34m=\u001b[0m \u001b[0mself\u001b[0m\u001b[0;34m.\u001b[0m\u001b[0m_to_chess960\u001b[0m\u001b[0;34m(\u001b[0m\u001b[0mmove\u001b[0m\u001b[0;34m)\u001b[0m\u001b[0;34m\u001b[0m\u001b[0;34m\u001b[0m\u001b[0m\n\u001b[0m\u001b[1;32m   1961\u001b[0m         \u001b[0mself\u001b[0m\u001b[0;34m.\u001b[0m\u001b[0mmove_stack\u001b[0m\u001b[0;34m.\u001b[0m\u001b[0mappend\u001b[0m\u001b[0;34m(\u001b[0m\u001b[0mself\u001b[0m\u001b[0;34m.\u001b[0m\u001b[0m_from_chess960\u001b[0m\u001b[0;34m(\u001b[0m\u001b[0mself\u001b[0m\u001b[0;34m.\u001b[0m\u001b[0mchess960\u001b[0m\u001b[0;34m,\u001b[0m \u001b[0mmove\u001b[0m\u001b[0;34m.\u001b[0m\u001b[0mfrom_square\u001b[0m\u001b[0;34m,\u001b[0m \u001b[0mmove\u001b[0m\u001b[0;34m.\u001b[0m\u001b[0mto_square\u001b[0m\u001b[0;34m,\u001b[0m \u001b[0mmove\u001b[0m\u001b[0;34m.\u001b[0m\u001b[0mpromotion\u001b[0m\u001b[0;34m,\u001b[0m \u001b[0mmove\u001b[0m\u001b[0;34m.\u001b[0m\u001b[0mdrop\u001b[0m\u001b[0;34m)\u001b[0m\u001b[0;34m)\u001b[0m\u001b[0;34m\u001b[0m\u001b[0;34m\u001b[0m\u001b[0m\n\u001b[1;32m   1962\u001b[0m         \u001b[0mself\u001b[0m\u001b[0;34m.\u001b[0m\u001b[0m_stack\u001b[0m\u001b[0;34m.\u001b[0m\u001b[0mappend\u001b[0m\u001b[0;34m(\u001b[0m\u001b[0mself\u001b[0m\u001b[0;34m.\u001b[0m\u001b[0m_board_state\u001b[0m\u001b[0;34m(\u001b[0m\u001b[0;34m)\u001b[0m\u001b[0;34m)\u001b[0m\u001b[0;34m\u001b[0m\u001b[0;34m\u001b[0m\u001b[0m\n",
      "\u001b[0;32m~/anaconda3/lib/python3.7/site-packages/chess/__init__.py\u001b[0m in \u001b[0;36m_to_chess960\u001b[0;34m(self, move)\u001b[0m\n\u001b[1;32m   3332\u001b[0m \u001b[0;34m\u001b[0m\u001b[0m\n\u001b[1;32m   3333\u001b[0m     \u001b[0;32mdef\u001b[0m \u001b[0m_to_chess960\u001b[0m\u001b[0;34m(\u001b[0m\u001b[0mself\u001b[0m\u001b[0;34m,\u001b[0m \u001b[0mmove\u001b[0m\u001b[0;34m:\u001b[0m \u001b[0mMove\u001b[0m\u001b[0;34m)\u001b[0m \u001b[0;34m->\u001b[0m \u001b[0mMove\u001b[0m\u001b[0;34m:\u001b[0m\u001b[0;34m\u001b[0m\u001b[0;34m\u001b[0m\u001b[0m\n\u001b[0;32m-> 3334\u001b[0;31m         \u001b[0;32mif\u001b[0m \u001b[0mmove\u001b[0m\u001b[0;34m.\u001b[0m\u001b[0mfrom_square\u001b[0m \u001b[0;34m==\u001b[0m \u001b[0mE1\u001b[0m \u001b[0;32mand\u001b[0m \u001b[0mself\u001b[0m\u001b[0;34m.\u001b[0m\u001b[0mkings\u001b[0m \u001b[0;34m&\u001b[0m \u001b[0mBB_E1\u001b[0m\u001b[0;34m:\u001b[0m\u001b[0;34m\u001b[0m\u001b[0;34m\u001b[0m\u001b[0m\n\u001b[0m\u001b[1;32m   3335\u001b[0m             \u001b[0;32mif\u001b[0m \u001b[0mmove\u001b[0m\u001b[0;34m.\u001b[0m\u001b[0mto_square\u001b[0m \u001b[0;34m==\u001b[0m \u001b[0mG1\u001b[0m \u001b[0;32mand\u001b[0m \u001b[0;32mnot\u001b[0m \u001b[0mself\u001b[0m\u001b[0;34m.\u001b[0m\u001b[0mrooks\u001b[0m \u001b[0;34m&\u001b[0m \u001b[0mBB_G1\u001b[0m\u001b[0;34m:\u001b[0m\u001b[0;34m\u001b[0m\u001b[0;34m\u001b[0m\u001b[0m\n\u001b[1;32m   3336\u001b[0m                 \u001b[0;32mreturn\u001b[0m \u001b[0mMove\u001b[0m\u001b[0;34m(\u001b[0m\u001b[0mE1\u001b[0m\u001b[0;34m,\u001b[0m \u001b[0mH1\u001b[0m\u001b[0;34m)\u001b[0m\u001b[0;34m\u001b[0m\u001b[0;34m\u001b[0m\u001b[0m\n",
      "\u001b[0;31mAttributeError\u001b[0m: 'str' object has no attribute 'from_square'"
     ]
    }
   ],
   "source": [
    "import chess\n",
    "import random\n",
    "import chess.engine\n",
    "import chess.svg\n",
    "\n",
    "import keras\n",
    "from keras.models import load_model\n",
    "from keras.utils import CustomObjectScope\n",
    "from keras.initializers import glorot_uniform\n",
    "import tensorflow as tf \n",
    "import pandas as pd\n",
    "\n",
    "\n",
    "def convertToFeatureVector(boardState):\n",
    "    pieces = []\n",
    "    encoding = {'P':1,'R':2,'N':3,'B':4,'Q':5,'K':6,'p':-1,'r':-2,'n':-3,'b':-4,'q':-5,'k':-6, '.':0}\n",
    "    for i in range(64):\n",
    "        piece = boardState.piece_at(i)\n",
    "        if piece:\n",
    "            piece = piece.symbol()\n",
    "        else:\n",
    "            piece = '.'\n",
    "        pieces.append(encoding[piece])\n",
    "    return pieces\n",
    "print(\"Loading Model\")\n",
    "model = tf.keras.models.load_model('simple_dense.h5')\n",
    "print(\"Done Loading\")\n",
    "\n",
    "def evaluateMove(move):\n",
    "    #simple_dense.h5\n",
    "    df = pd.DataFrame(data=[move])\n",
    "    return model.predict(df)\n",
    "\n",
    "\n",
    "winCount = 0\n",
    "printStr = \"\"\n",
    "for _ in range(0, 1):\n",
    "\n",
    "    board = chess.Board()\n",
    "    engine = chess.engine.SimpleEngine.popen_uci(\"/usr/local/bin/stockfish\")\n",
    "    '''\n",
    "    nnWhite = True\n",
    "    if (random.random() < .5):\n",
    "        result = engine.play(board, chess.engine.Limit(time=0.1))\n",
    "        board.push(result.move)\n",
    "        nnWhite = False\n",
    "    '''\n",
    "    startingMoves = [\"e2e4\", \"d2d4\", \"c2c4\", \"g1f3\"]\n",
    "    randomIndex = random.randrange(0,3,1)\n",
    "    board.push(startingMoves[randomIndex])\n",
    "    while not board.is_game_over():\n",
    "        moves = board.legal_moves\n",
    "        moveStrength = 0\n",
    "        moveToMake = 0\n",
    "        display(chess.svg.board(board=board))\n",
    "        for move in moves:\n",
    "            \n",
    "            board.push(move)\n",
    "            moveFeature = convertToFeatureVector(board)\n",
    "            strengthArr = evaluateMove(moveFeature)[0]\n",
    "            \n",
    "            print(move, strengthArr)\n",
    "            strength = strengthArr[1]\n",
    "\n",
    "            if strength > moveStrength:\n",
    "                \n",
    "                moveToMake = move\n",
    "                moveStrength = strength\n",
    "\n",
    "            newMove = board.pop()\n",
    "        board.push(moveToMake)\n",
    "        display(chess.svg.board(board=board))\n",
    "\n",
    "        if(board.is_game_over()):\n",
    "            break;\n",
    "        \n",
    "        result = engine.play(board, chess.engine.Limit(depth=1))\n",
    "        board.push(result.move)\n",
    "        \n",
    "    display(chess.svg.board(board=board))\n",
    "    printStr = printStr+\"\"+board.result()+\" \"+str(nnWhite)+\"\\n\"\n",
    "    engine.quit()\n",
    "\n",
    "print(printStr)\n"
   ]
  },
  {
   "cell_type": "code",
   "execution_count": null,
   "metadata": {},
   "outputs": [],
   "source": []
  }
 ],
 "metadata": {
  "kernelspec": {
   "display_name": "Python 3",
   "language": "python",
   "name": "python3"
  },
  "language_info": {
   "codemirror_mode": {
    "name": "ipython",
    "version": 3
   },
   "file_extension": ".py",
   "mimetype": "text/x-python",
   "name": "python",
   "nbconvert_exporter": "python",
   "pygments_lexer": "ipython3",
   "version": "3.7.3"
  }
 },
 "nbformat": 4,
 "nbformat_minor": 2
}
