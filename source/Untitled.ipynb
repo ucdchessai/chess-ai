{
 "cells": [
  {
   "cell_type": "code",
   "execution_count": 6,
   "metadata": {},
   "outputs": [
    {
     "name": "stdout",
     "output_type": "stream",
     "text": [
      "True\n",
      "False\n",
      "True True True True\n"
     ]
    }
   ],
   "source": [
    "import chess\n",
    "board = chess.Board()\n",
    "kingWhite = bool(board.castling_rights & chess.BB_H1)\n",
    "queenWhite = bool(board.castling_rights & chess.BB_A1)\n",
    "\n",
    "queenBlack = bool(board.castling_rights & chess.BB_A8)\n",
    "kingBlack = bool(board.castling_rights & chess.BB_H8)\n",
    "\n",
    "isWhite = board.\n",
    "print(board.turn)\n",
    "board.push(chess.Move.from_uci(\"g1f3\"))\n",
    "print(board.turn)\n",
    "print(kingWhite, queenWhite, queenBlack, kingBlack)"
   ]
  },
  {
   "cell_type": "code",
   "execution_count": null,
   "metadata": {},
   "outputs": [],
   "source": []
  }
 ],
 "metadata": {
  "kernelspec": {
   "display_name": "Python 3",
   "language": "python",
   "name": "python3"
  },
  "language_info": {
   "codemirror_mode": {
    "name": "ipython",
    "version": 3
   },
   "file_extension": ".py",
   "mimetype": "text/x-python",
   "name": "python",
   "nbconvert_exporter": "python",
   "pygments_lexer": "ipython3",
   "version": "3.7.3"
  }
 },
 "nbformat": 4,
 "nbformat_minor": 2
}
