{
 "cells": [
  {
   "cell_type": "code",
   "execution_count": null,
   "metadata": {},
   "outputs": [
    {
     "name": "stdout",
     "output_type": "stream",
     "text": [
      "||||||||||||||||||||||||||||||||||||||||||||||||||||||||||||||||||||||||||||||||||||||||||||||||||||||||||||||||||||||||||||||||||||||||||||||||||||||||||||||||||||||||||"
     ]
    }
   ],
   "source": [
    "import chess\n",
    "import random\n",
    "import chess.engine\n",
    "import chess.svg\n",
    "\n",
    "import keras\n",
    "from keras.models import load_model\n",
    "from keras.utils import CustomObjectScope\n",
    "from keras.initializers import glorot_uniform\n",
    "import tensorflow as tf \n",
    "import pandas as pd\n",
    "\n",
    "\n",
    "def convertToFeatureVector(boardState):\n",
    "    pieces = []\n",
    "    encoding = {'P':1,'R':2,'N':3,'B':4,'Q':5,'K':6,'p':-1,'r':-2,'n':-3,'b':-4,'q':-5,'k':-6, '.':0}\n",
    "    for i in range(64):\n",
    "        piece = boardState.piece_at(i)\n",
    "        if piece:\n",
    "            piece = piece.symbol()\n",
    "        else:\n",
    "            piece = '.'\n",
    "        pieces.append(encoding[piece])\n",
    "    return pieces\n",
    "\n",
    "def evaluateMove(move):\n",
    "    #simple_dense.h5\n",
    "    model = tf.keras.models.load_model('simple_dense.h5')\n",
    "    df = pd.DataFrame(data=[move])\n",
    "    return model.predict(df)\n",
    "\n",
    "\n",
    "winCount = 0\n",
    "printStr = \"\"\n",
    "for _ in range(0, 10):\n",
    "\n",
    "    board = chess.Board()\n",
    "    engine = chess.engine.SimpleEngine.popen_uci(\"/usr/local/bin/stockfish\")\n",
    "    nnWhite = True\n",
    "    if (random.random() < .5):\n",
    "        result = engine.play(board, chess.engine.Limit(time=0.1))\n",
    "        board.push(result.move)\n",
    "        nnWhite = False\n",
    "\n",
    "    while not board.is_game_over():\n",
    "        moves = board.legal_moves\n",
    "        moveStrength = 0\n",
    "        moveToMake = 0\n",
    "        for move in moves:\n",
    "            print(\"|\", end = '')\n",
    "            board.push(move)\n",
    "            moveFeature = convertToFeatureVector(board)\n",
    "            strengthArr = evaluateMove(moveFeature)[0]\n",
    "            if nnWhite:\n",
    "                strength = strengthArr[0]\n",
    "            else:\n",
    "                strength = strengthArr[1]\n",
    "\n",
    "            if strength > moveStrength:\n",
    "                moveToMake = move\n",
    "                moveStrength = strength\n",
    "            newMove = board.pop()\n",
    "        board.push(moveToMake)\n",
    "        if(board.is_game_over()):\n",
    "            break;\n",
    "        result = engine.play(board, chess.engine.Limit(time=0.001))\n",
    "        board.push(result.move)\n",
    "        \n",
    "    display(chess.svg.board(board=board))\n",
    "    printStr = printStr+\"\"+board.result()+\" \"+str(nnWhite)+\"\\n\"\n",
    "    engine.quit()\n",
    "\n",
    "print(printStr)\n"
   ]
  },
  {
   "cell_type": "code",
   "execution_count": null,
   "metadata": {},
   "outputs": [],
   "source": []
  }
 ],
 "metadata": {
  "kernelspec": {
   "display_name": "Python 3",
   "language": "python",
   "name": "python3"
  },
  "language_info": {
   "codemirror_mode": {
    "name": "ipython",
    "version": 3
   },
   "file_extension": ".py",
   "mimetype": "text/x-python",
   "name": "python",
   "nbconvert_exporter": "python",
   "pygments_lexer": "ipython3",
   "version": "3.7.3"
  }
 },
 "nbformat": 4,
 "nbformat_minor": 2
}
